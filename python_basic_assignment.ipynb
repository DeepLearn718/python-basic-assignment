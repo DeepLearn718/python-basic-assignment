{
  "nbformat": 4,
  "nbformat_minor": 0,
  "metadata": {
    "colab": {
      "provenance": []
    },
    "kernelspec": {
      "name": "python3",
      "display_name": "Python 3"
    },
    "language_info": {
      "name": "python"
    }
  },
  "cells": [
    {
      "cell_type": "code",
      "execution_count": null,
      "metadata": {
        "colab": {
          "base_uri": "https://localhost:8080/"
        },
        "id": "YDIDkoY0Azfi",
        "outputId": "3aa7153b-f546-4928-83ea-d516d09b8783"
      },
      "outputs": [
        {
          "output_type": "stream",
          "name": "stdout",
          "text": [
            "After adding 50 and 60: [11, 12, 13, 14, 50, 60]\n",
            "After removing 11 and 13: [12, 14, 50, 60]\n",
            "Ascending order: [12, 14, 50, 60]\n",
            "Descending order: [60, 50, 14, 12]\n",
            "13 is not present in the list.\n",
            "Number of elements: 4\n",
            "Sum of all elements: 136\n",
            "Sum of odd numbers: 0\n",
            "Sum of even numbers: 136\n",
            "Sum of prime numbers: 0\n",
            "After clearing L: []\n"
          ]
        }
      ],
      "source": [
        "# Initial list\n",
        "L = [11, 12, 13, 14]\n",
        "\n",
        "# (i) Add 50 and 60 to L\n",
        "L.append(50)\n",
        "L.append(60)\n",
        "print(\"After adding 50 and 60:\", L)\n",
        "\n",
        "# (ii) Remove 11 and 13 from L\n",
        "L.remove(11)\n",
        "L.remove(13)\n",
        "print(\"After removing 11 and 13:\", L)\n",
        "\n",
        "# (iii) Sort L in ascending order\n",
        "L.sort()\n",
        "print(\"Ascending order:\", L)\n",
        "\n",
        "# (iv) Sort L in descending order\n",
        "L.sort(reverse=True)\n",
        "print(\"Descending order:\", L)\n",
        "\n",
        "# (v) Search for 13 in L\n",
        "if 13 in L:\n",
        "    print(\"13 is present in the list.\")\n",
        "else:\n",
        "    print(\"13 is not present in the list.\")\n",
        "\n",
        "# (vi) Count the number of elements in L\n",
        "print(\"Number of elements:\", len(L))\n",
        "\n",
        "# (vii) Sum all the elements in L\n",
        "print(\"Sum of all elements:\", sum(L))\n",
        "\n",
        "# (viii) Sum all ODD numbers in L\n",
        "odd_sum = sum(x for x in L if x % 2 != 0)\n",
        "print(\"Sum of odd numbers:\", odd_sum)\n",
        "\n",
        "# (ix) Sum all EVEN numbers in L\n",
        "even_sum = sum(x for x in L if x % 2 == 0)\n",
        "print(\"Sum of even numbers:\", even_sum)\n",
        "\n",
        "# (x) Sum all PRIME numbers in L\n",
        "def is_prime(n):\n",
        "    if n < 2:\n",
        "        return False\n",
        "    for i in range(2, int(n**0.5)+1):\n",
        "        if n % i == 0:\n",
        "            return False\n",
        "    return True\n",
        "\n",
        "prime_sum = sum(x for x in L if is_prime(x))\n",
        "print(\"Sum of prime numbers:\", prime_sum)\n",
        "\n",
        "# (xi) Clear all the elements in L\n",
        "L.clear()\n",
        "print(\"After clearing L:\", L)\n",
        "\n",
        "# (xii) Delete L\n",
        "del L\n",
        "# print(L)  # This would raise an error since L is deleted\n"
      ]
    },
    {
      "cell_type": "code",
      "source": [
        "# Initial dictionary\n",
        "D = {1:5.6, 2:7.8, 3:6.6, 4:8.7, 5:7.7}\n",
        "\n",
        "# (i) Add new entry in D; key=8, value=8.8\n",
        "D[8] = 8.8\n",
        "print(\"After adding key=8:\", D)\n",
        "\n",
        "# (ii) Remove key=2\n",
        "D.pop(2)\n",
        "print(\"After removing key=2:\", D)\n",
        "\n",
        "# (iii) Check whether key=6 is present in D\n",
        "if 6 in D:\n",
        "    print(\"Key 6 is present in D.\")\n",
        "else:\n",
        "    print(\"Key 6 is not present in D.\")\n",
        "\n",
        "# (iv) Count the number of elements present in D\n",
        "print(\"Number of elements in D:\", len(D))\n",
        "\n",
        "# (v) Add all the values present in D\n",
        "print(\"Sum of all values in D:\", sum(D.values()))\n",
        "\n",
        "# (vi) Update the value of key=3 to 7.1\n",
        "D[3] = 7.1\n",
        "print(\"After updating key=3:\", D)\n",
        "\n",
        "# (vii) Clear the dictionary\n",
        "D.clear()\n",
        "print(\"After clearing D:\", D)\n"
      ],
      "metadata": {
        "colab": {
          "base_uri": "https://localhost:8080/"
        },
        "id": "RoDKM3BXBIkI",
        "outputId": "4c804ff8-2d8a-4415-a117-2bbc18ae1dd5"
      },
      "execution_count": null,
      "outputs": [
        {
          "output_type": "stream",
          "name": "stdout",
          "text": [
            "After adding key=8: {1: 5.6, 2: 7.8, 3: 6.6, 4: 8.7, 5: 7.7, 8: 8.8}\n",
            "After removing key=2: {1: 5.6, 3: 6.6, 4: 8.7, 5: 7.7, 8: 8.8}\n",
            "Key 6 is not present in D.\n",
            "Number of elements in D: 5\n",
            "Sum of all values in D: 37.4\n",
            "After updating key=3: {1: 5.6, 3: 7.1, 4: 8.7, 5: 7.7, 8: 8.8}\n",
            "After clearing D: {}\n"
          ]
        }
      ]
    },
    {
      "cell_type": "code",
      "source": [
        "S1 = {10, 20, 30, 40, 50, 60}\n",
        "S2 = {40, 50, 60, 70, 80, 90}\n",
        "\n",
        "# (i)\n",
        "S1.update([55, 66])\n",
        "print(\"(i)\", S1)\n",
        "\n",
        "# (ii)\n",
        "S1.difference_update([10, 30])\n",
        "print(\"(ii)\", S1)\n",
        "\n",
        "# (iii)\n",
        "print(\"(iii)\", 40 in S1)\n",
        "\n",
        "# (iv)\n",
        "print(\"(iv)\", S1.union(S2))\n",
        "\n",
        "# (v)\n",
        "print(\"(v)\", S1.intersection(S2))\n",
        "\n",
        "# (vi)\n",
        "print(\"(vi)\", S1.difference(S2))\n"
      ],
      "metadata": {
        "colab": {
          "base_uri": "https://localhost:8080/"
        },
        "id": "3M9-93XKCHQS",
        "outputId": "8ba8530f-6aa3-4748-f241-2731cf79d804"
      },
      "execution_count": null,
      "outputs": [
        {
          "output_type": "stream",
          "name": "stdout",
          "text": [
            "(i) {50, 66, 20, 55, 40, 10, 60, 30}\n",
            "(ii) {50, 66, 20, 55, 40, 60}\n",
            "(iii) True\n",
            "(iv) {66, 70, 40, 80, 50, 20, 55, 90, 60}\n",
            "(v) {40, 50, 60}\n",
            "(vi) {66, 20, 55}\n"
          ]
        }
      ]
    },
    {
      "cell_type": "code",
      "source": [
        "import random\n",
        "import string\n",
        "\n",
        "# (i)\n",
        "print(\"(i)\", [\"\".join(random.choices(string.ascii_letters, k=random.randint(6, 8))) for _ in range(100)])\n",
        "\n",
        "# (ii)\n",
        "def is_prime(n):\n",
        "    if n < 2: return False\n",
        "    for i in range(2, int(n**0.5)+1):\n",
        "        if n % i == 0: return False\n",
        "    return True\n",
        "\n",
        "primes = [i for i in range(600, 801) if is_prime(i)]\n",
        "print(\"(ii)\", primes)\n",
        "\n",
        "# (iii)\n",
        "nums = [i for i in range(100, 1001) if i % 7 == 0 and i % 9 == 0]\n",
        "print(\"(iii)\", nums)\n"
      ],
      "metadata": {
        "colab": {
          "base_uri": "https://localhost:8080/"
        },
        "id": "dWzNVj4FCNUn",
        "outputId": "63f02e08-aba4-464e-ef90-acd4438ecf57"
      },
      "execution_count": null,
      "outputs": [
        {
          "output_type": "stream",
          "name": "stdout",
          "text": [
            "(i) ['qebuiEK', 'cIcNeuNM', 'kRezpUL', 'nWDKNs', 'uCRcHl', 'FFrJjI', 'ThvZyGH', 'nBBHTZh', 'whZoIzDB', 'iSxKXq', 'SgbPRiNH', 'RxeoahE', 'YicVIAzF', 'tsdjzeg', 'FXibdeAM', 'yMBPMea', 'ELppQKXm', 'VdRGSDT', 'pnbmQFO', 'QUZpuB', 'cKWmwW', 'ePgOHIgq', 'owjmuD', 'NkHtTO', 'vlazNpPh', 'MVmqPU', 'lptkcg', 'hSAkdLOl', 'mhhGDro', 'zuCaDTIh', 'FDWlfMSO', 'lhxNojD', 'CRaQIlOu', 'wnDlrvbp', 'RXTcdF', 'jXlWdcx', 'lDrkWXW', 'AinkZPIk', 'AWUIDSd', 'Abejqztr', 'SjRvqLN', 'LNdspkt', 'aiyZqED', 'LhIIrJ', 'dbTZfL', 'wsaddmz', 'cPubdZot', 'hdYMzmld', 'hNSUjJ', 'sbuzdGCp', 'btHxYZ', 'mLTivyL', 'rEnHQJo', 'AQEYHE', 'DdcAag', 'etRPXU', 'mmJyJc', 'PEbQYCP', 'GiaCPw', 'DiRIKITV', 'uWUTfoU', 'BNtMnJr', 'SuVriy', 'tkJNrn', 'kLULGSC', 'URmNSTAF', 'xjzXorAI', 'NVozarLZ', 'ANSOlN', 'mSiguCG', 'GWANGZo', 'kDqWrfz', 'xOeCYHsi', 'lTIzqr', 'quEXMbaa', 'njKavYn', 'dpMRmp', 'xYTCJN', 'CbWZrg', 'SMSyQKk', 'mSvVNo', 'kpUJIFu', 'kHYVel', 'AqAlTao', 'zbuPbU', 'gybYqEUc', 'FCRIOmri', 'GMiXFx', 'hUgVVHfN', 'mCZawJ', 'iTCXkTio', 'XuHcjhz', 'pYkxSSY', 'KRMLTl', 'OGdEIS', 'liulwuv', 'VzHiwUt', 'xuiXWgm', 'AmQNdB', 'VwHuSTp']\n",
            "(ii) [601, 607, 613, 617, 619, 631, 641, 643, 647, 653, 659, 661, 673, 677, 683, 691, 701, 709, 719, 727, 733, 739, 743, 751, 757, 761, 769, 773, 787, 797]\n",
            "(iii) [126, 189, 252, 315, 378, 441, 504, 567, 630, 693, 756, 819, 882, 945]\n"
          ]
        }
      ]
    },
    {
      "cell_type": "code",
      "source": [
        "list1 = random.sample(range(10, 31), 10)\n",
        "list2 = random.sample(range(10, 31), 10)\n",
        "\n",
        "print(\"List1:\", list1)\n",
        "print(\"List2:\", list2)\n",
        "\n",
        "# (i)\n",
        "print(\"(i) Common:\", set(list1) & set(list2))\n",
        "\n",
        "# (ii)\n",
        "print(\"(ii) Unique:\", set(list1) ^ set(list2))\n",
        "\n",
        "# (iii)\n",
        "print(\"(iii) Minimums:\", min(list1), min(list2))\n",
        "\n",
        "# (iv)\n",
        "print(\"(iv) Maximums:\", max(list1), max(list2))\n",
        "\n",
        "# (v)\n",
        "print(\"(v) Sums:\", sum(list1), sum(list2))\n"
      ],
      "metadata": {
        "colab": {
          "base_uri": "https://localhost:8080/"
        },
        "id": "_GtFVrRiCO5W",
        "outputId": "d8926e84-de66-4a33-ac45-012832b5a100"
      },
      "execution_count": null,
      "outputs": [
        {
          "output_type": "stream",
          "name": "stdout",
          "text": [
            "List1: [26, 20, 17, 11, 13, 16, 14, 21, 15, 22]\n",
            "List2: [25, 28, 30, 22, 16, 29, 15, 21, 13, 14]\n",
            "(i) Common: {13, 14, 15, 16, 21, 22}\n",
            "(ii) Unique: {11, 17, 20, 25, 26, 28, 29, 30}\n",
            "(iii) Minimums: 11 13\n",
            "(iv) Maximums: 26 30\n",
            "(v) Sums: 175 213\n"
          ]
        }
      ]
    },
    {
      "cell_type": "code",
      "source": [
        "import random\n",
        "\n",
        "nums = [random.randint(100, 900) for _ in range(100)]\n",
        "\n",
        "odds = [n for n in nums if n % 2 != 0]\n",
        "evens = [n for n in nums if n % 2 == 0]\n",
        "\n",
        "def is_prime(n):\n",
        "    if n < 2: return False\n",
        "    for i in range(2, int(n**0.5) + 1):\n",
        "        if n % i == 0: return False\n",
        "    return True\n",
        "\n",
        "primes = [n for n in nums if is_prime(n)]\n",
        "\n",
        "print(\"(i) Odd:\", odds)\n",
        "print(\"(ii) Even:\", evens)\n",
        "print(\"(iii) Prime:\", primes)\n"
      ],
      "metadata": {
        "colab": {
          "base_uri": "https://localhost:8080/"
        },
        "id": "VAaHOh_oChhP",
        "outputId": "4050f2f5-7934-460a-a825-6b38898ea3ef"
      },
      "execution_count": null,
      "outputs": [
        {
          "output_type": "stream",
          "name": "stdout",
          "text": [
            "(i) Odd: [751, 669, 853, 493, 345, 193, 869, 487, 491, 255, 839, 681, 863, 567, 551, 577, 827, 385, 261, 679, 243, 153, 623, 139, 869, 855, 825, 617, 711, 773, 551, 871, 783, 317, 241, 665, 331, 427, 527, 769, 119, 231, 867, 329, 167, 843, 855, 659, 715, 491, 885, 159, 231, 213, 379, 803, 379, 571, 543, 301, 561, 431, 617]\n",
            "(ii) Even: [884, 874, 546, 272, 526, 804, 692, 416, 398, 512, 214, 880, 504, 652, 294, 290, 166, 438, 692, 530, 256, 754, 398, 350, 296, 622, 722, 116, 264, 216, 434, 678, 144, 662, 530, 702, 546]\n",
            "(iii) Prime: [751, 853, 193, 487, 491, 839, 863, 577, 827, 139, 617, 773, 317, 241, 331, 769, 167, 659, 491, 379, 379, 571, 431, 617]\n"
          ]
        }
      ]
    },
    {
      "cell_type": "code",
      "source": [
        "D = {1: \"One\", 2: \"Two\", 3: \"Three\", 4: \"Four\", 5: \"Five\"}\n",
        "\n",
        "with open(\"dictionary_output.txt\", \"w\") as f:\n",
        "    for k, v in D.items():\n",
        "        f.write(f\"{k}, {v}\\n\")\n"
      ],
      "metadata": {
        "id": "g6qeahOdCnOJ"
      },
      "execution_count": null,
      "outputs": []
    },
    {
      "cell_type": "code",
      "source": [
        "L = [\"One\", \"Two\", \"Three\", \"Four\", \"Five\"]\n",
        "\n",
        "with open(\"list_lengths.txt\", \"w\") as f:\n",
        "    for word in L:\n",
        "        f.write(f\"{word}, {len(word)}\\n\")\n"
      ],
      "metadata": {
        "id": "cHUHLHlUCsnN"
      },
      "execution_count": null,
      "outputs": []
    },
    {
      "cell_type": "code",
      "source": [
        "import string\n",
        "\n",
        "with open(\"random_strings.txt\", \"w\") as f:\n",
        "    for _ in range(100):\n",
        "        rand_str = ''.join(random.choices(string.ascii_letters, k=random.randint(10, 15)))\n",
        "        f.write(rand_str + '\\n')\n"
      ],
      "metadata": {
        "id": "zdfWxKOjC0CS"
      },
      "execution_count": null,
      "outputs": []
    },
    {
      "cell_type": "code",
      "source": [
        "with open(\"primes_600_800.txt\", \"w\") as f:\n",
        "    for i in range(600, 801):\n",
        "        if is_prime(i):\n",
        "            f.write(str(i) + '\\n')\n"
      ],
      "metadata": {
        "id": "DouUiaASC46G"
      },
      "execution_count": null,
      "outputs": []
    },
    {
      "cell_type": "code",
      "source": [
        "import time\n",
        "\n",
        "start = time.time()\n",
        "# Example operation:\n",
        "sum([i for i in range(100000)])\n",
        "end = time.time()\n",
        "\n",
        "print(\"Time taken:\", end - start, \"seconds\")\n"
      ],
      "metadata": {
        "colab": {
          "base_uri": "https://localhost:8080/"
        },
        "id": "FpF-1cBzDAXP",
        "outputId": "fa70795b-2874-4663-88a1-a1990339a74d"
      },
      "execution_count": null,
      "outputs": [
        {
          "output_type": "stream",
          "name": "stdout",
          "text": [
            "Time taken: 0.010765314102172852 seconds\n"
          ]
        }
      ]
    },
    {
      "cell_type": "code",
      "source": [
        "import matplotlib.pyplot as plt\n",
        "\n",
        "sizes = [5000, 10000, 15000, 20000, 25000]\n",
        "times = []\n",
        "\n",
        "for size in sizes:\n",
        "    data = [random.randint(1, 100000) for _ in range(size)]\n",
        "    start = time.time()\n",
        "    data.sort()\n",
        "    end = time.time()\n",
        "    times.append(end - start)\n",
        "\n",
        "plt.plot(sizes, times, marker='o')\n",
        "plt.xlabel(\"Number of elements in list\")\n",
        "plt.ylabel(\"Time Taken (seconds)\")\n",
        "plt.title(\"Sorting Performance\")\n",
        "plt.grid(True)\n",
        "plt.show()\n"
      ],
      "metadata": {
        "colab": {
          "base_uri": "https://localhost:8080/",
          "height": 472
        },
        "id": "GlC7TBb6DFEy",
        "outputId": "5fcf2f23-fc44-42a1-906e-439a32c77db7"
      },
      "execution_count": null,
      "outputs": [
        {
          "output_type": "display_data",
          "data": {
            "text/plain": [
              "<Figure size 640x480 with 1 Axes>"
            ],
            "image/png": "[encoded data removed]"
          },
          "metadata": {}
        }
      ]
    },
    {
      "cell_type": "code",
      "source": [
        "students = {\n",
        "    \"Alice\": [80, 75, 90, 85, 88],\n",
        "    \"Bob\": [60, 65, 70, 68, 72],\n",
        "    \"Charlie\": [95, 92, 90, 93, 97],\n",
        "    \"David\": [70, 72, 75, 71, 74]\n",
        "}\n",
        "\n",
        "averages = {name: sum(marks)/5 for name, marks in students.items()}\n",
        "max_student = max(averages, key=averages.get)\n",
        "min_student = min(averages, key=averages.get)\n",
        "\n",
        "print(\"Student with Max Avg:\", max_student, \"=\", averages[max_student])\n",
        "print(\"Student with Min Avg:\", min_student, \"=\", averages[min_student])\n"
      ],
      "metadata": {
        "colab": {
          "base_uri": "https://localhost:8080/"
        },
        "id": "DWskLeC-DLzY",
        "outputId": "730408e9-09e1-441c-8651-43395620f8db"
      },
      "execution_count": null,
      "outputs": [
        {
          "output_type": "stream",
          "name": "stdout",
          "text": [
            "Student with Max Avg: Charlie = 93.4\n",
            "Student with Min Avg: Bob = 67.0\n"
          ]
        }
      ]
    }
  ]
}